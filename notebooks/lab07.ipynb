{
 "cells": [
  {
   "cell_type": "markdown",
   "metadata": {},
   "source": [
    "# Lab 7 —  SDM optimization"
   ]
  },
  {
   "cell_type": "markdown",
   "metadata": {},
   "source": [
    "### Tomasz Ogiołda"
   ]
  },
  {
   "cell_type": "code",
   "execution_count": 8,
   "metadata": {},
   "outputs": [],
   "source": [
    "from types import SimpleNamespace\n",
    "import numpy as np\n",
    "import scipy\n",
    "import numba"
   ]
  },
  {
   "cell_type": "code",
   "execution_count": 9,
   "metadata": {},
   "outputs": [],
   "source": [
    "PARAMS_PHYS = SimpleNamespace(\n",
    "    n0=2**23,\n",
    "    dv_m3 = 1e6,\n",
    "    x0_kg=1.192e-13,\n",
    "    b_per_s = 1500,\n",
    ")\n",
    "PARAMS_PHYS.dist = scipy.stats.expon(loc=0, scale=PARAMS_PHYS.x0_kg)\n",
    "PARAMS_PHYS.norm = PARAMS_PHYS.n0 * PARAMS_PHYS.dv_m3\n",
    "\n",
    "PARAMS_COMP = SimpleNamespace(\n",
    "    n_part = 2**11,\n",
    "    t_max_s = 3600,\n",
    "    n_step = 1800,\n",
    ")\n",
    "PARAMS_COMP.dt_s = PARAMS_COMP.t_max_s / PARAMS_COMP.n_step\n",
    "\n",
    "PARAMS_BINS = SimpleNamespace(\n",
    "    min_x = -12,\n",
    "    max_x = -5,\n",
    "    count = 70\n",
    ")\n",
    "\n",
    "RNG = np.random.default_rng(seed=44)"
   ]
  },
  {
   "cell_type": "code",
   "execution_count": 10,
   "metadata": {},
   "outputs": [],
   "source": [
    "def sample(*, params_comp, params_phys, rng):\n",
    "    \"\"\" randomly samples a particle population using constant-multiplicity,\n",
    "    uniform-mass and uniform-log-mass schemes and returns a dictionary\n",
    "    of three simulation state, each composed of 'mass' and 'mult' arrays \"\"\"\n",
    "    u01 = rng.uniform(0, 1, size=params_comp.n_part)\n",
    "    uniform_sampling_range = [params_phys.dist.ppf(q) for q in (.001, .999)]\n",
    "    x_uniform_linx = (\n",
    "        uniform_sampling_range[0]\n",
    "        + u01 * (uniform_sampling_range[1] - uniform_sampling_range[0])\n",
    "    )\n",
    "    x_uniform_logx = np.exp(\n",
    "        np.log(uniform_sampling_range[0])\n",
    "        + u01 * (np.log(uniform_sampling_range[1]) - np.log(uniform_sampling_range[0]))\n",
    "    )\n",
    "    return {\n",
    "        k: {\n",
    "            'mass': v['x'],\n",
    "            'mult': np.round(v['y'] * params_phys.norm).astype(int),\n",
    "        }\n",
    "        for k,v in\n",
    "        {\n",
    "            'sampling: uniform random in x': {\n",
    "                'x': x_uniform_linx,\n",
    "                'y': params_phys.dist.pdf(x_uniform_linx) \\\n",
    "                  * (uniform_sampling_range[1] - uniform_sampling_range[0]) \\\n",
    "                  / params_comp.n_part,\n",
    "            },\n",
    "            'sampling: uniform random in ln(x)': {\n",
    "                'x': x_uniform_logx,\n",
    "                'y': params_phys.dist.pdf(x_uniform_logx) \\\n",
    "                  * (np.log(uniform_sampling_range[1]) - np.log(uniform_sampling_range[0])) \\\n",
    "                  / (params_comp.n_part / x_uniform_logx),\n",
    "            },\n",
    "            'sampling: constant multiplicity': {\n",
    "                'x': params_phys.dist.ppf(u01),\n",
    "                'y': np.full(shape=params_comp.n_part, fill_value=1 / params_comp.n_part),\n",
    "            }\n",
    "        }.items()\n",
    "    }\n",
    "\n",
    "PARTICLES = sample(params_phys=PARAMS_PHYS, params_comp=PARAMS_COMP, rng=RNG)"
   ]
  },
  {
   "cell_type": "code",
   "execution_count": 11,
   "metadata": {},
   "outputs": [],
   "source": [
    "def x_of_mass(mass):\n",
    "    \"\"\" defines the plot x coordinate as a funciton of particle mass \"\"\"\n",
    "    return np.log(mass) / 3\n",
    "\n",
    "def mass_of_x(coord):\n",
    "    \"\"\" computes mass back from the plot x coordinate \"\"\"\n",
    "    return np.exp(3 * coord)\n",
    "\n",
    "def kernel(mass_1, mass_2, coeff):\n",
    "    \"\"\" additive coagulation kernel \"\"\"\n",
    "    return coeff * (mass_1 + mass_2)\n",
    "\n",
    "def analytic_solution(mass_kg, time_s, params_phys):\n",
    "    \"\"\" Golovin's analytic solution to Smoluchowski coagulation equation \n",
    "    for additive kernel and exponential initial condition \"\"\"\n",
    "    tau = 1 - np.exp(-params_phys.n0 * params_phys.b_per_s * params_phys.x0_kg * time_s)\n",
    "    sqrt_tau = np.sqrt(tau)\n",
    "    return (\n",
    "        (1 - tau) / (mass_kg * sqrt_tau)\n",
    "        * scipy.special.ive(1, 2 * mass_kg / params_phys.x0_kg * sqrt_tau)  # pylint: disable=no-member\n",
    "        * np.exp(-(1 + tau - 2 * sqrt_tau) * mass_kg / params_phys.x0_kg)\n",
    "    )"
   ]
  },
  {
   "cell_type": "code",
   "execution_count": 12,
   "metadata": {},
   "outputs": [],
   "source": [
    "def sdm(*, pairs, u01, mult, mass, b_per_s, dt, dv):\n",
    "    \"\"\" performs Monte-Carlo coagulation using the SDM algorithm \"\"\"\n",
    "    for alpha, (j, k) in enumerate(pairs):\n",
    "        p_jk = kernel(mass[j], mass[k], coeff=b_per_s) * dt / dv\n",
    "        p_s_jk = max(mult[j], mult[k]) * p_jk\n",
    "        n = len(mult)\n",
    "        p_alpha = p_s_jk * n * (n - 1) / (2 * len(pairs))\n",
    "        \n",
    "        # assert p_alpha < 1 and p_alpha > 0\n",
    "        # TODO: Gamma factor fixing assertion in GH repo from the labs\n",
    "        \n",
    "        \n",
    "        if u01[alpha] < p_alpha:\n",
    "            if mult[j] < mult[k]:\n",
    "                j, k = k, j\n",
    "                \n",
    "            if mult[j] != mult[k]:\n",
    "                mult[j] -= mult[k]\n",
    "                mass[k] += mass[j]\n",
    "            else:\n",
    "                mult[k] = mult[j] - mult[j] // 2\n",
    "                mult[j] = mult[j] // 2\n",
    "                mass[k] += mass[j]\n",
    "                mass[j] = mass[k]"
   ]
  },
  {
   "cell_type": "code",
   "execution_count": 13,
   "metadata": {},
   "outputs": [
    {
     "ename": "AttributeError",
     "evalue": "module 'numba' has no attribute 'cuda'",
     "output_type": "error",
     "traceback": [
      "\u001b[31m---------------------------------------------------------------------------\u001b[39m",
      "\u001b[31mAttributeError\u001b[39m                            Traceback (most recent call last)",
      "\u001b[36mCell\u001b[39m\u001b[36m \u001b[39m\u001b[32mIn[13]\u001b[39m\u001b[32m, line 1\u001b[39m\n\u001b[32m----> \u001b[39m\u001b[32m1\u001b[39m \u001b[38;5;129m@numba\u001b[39m\u001b[43m.\u001b[49m\u001b[43mcuda\u001b[49m.jit(parallel=\u001b[38;5;28;01mTrue\u001b[39;00m)\n\u001b[32m      2\u001b[39m \u001b[38;5;28;01mdef\u001b[39;00m\u001b[38;5;250m \u001b[39m\u001b[34mkernel\u001b[39m(mass_1, mass_2, coeff):\n\u001b[32m      3\u001b[39m \u001b[38;5;250m    \u001b[39m\u001b[33;03m\"\"\" additive coagulation kernel \"\"\"\u001b[39;00m\n\u001b[32m      4\u001b[39m     \u001b[38;5;28;01mreturn\u001b[39;00m coeff * (mass_1 + mass_2)\n",
      "\u001b[31mAttributeError\u001b[39m: module 'numba' has no attribute 'cuda'"
     ]
    }
   ],
   "source": [
    "@numba.cuda.jit(parallel=True)\n",
    "def kernel(mass_1, mass_2, coeff):\n",
    "    \"\"\" additive coagulation kernel \"\"\"\n",
    "    return coeff * (mass_1 + mass_2)\n",
    "\n",
    "@numba.cuda.jit(parallel=True)\n",
    "def sdm_optimized(*, pairs, u01, mult, mass, b_per_s, dt, dv):\n",
    "    \"\"\" performs Monte-Carlo coagulation using the SDM algorithm \"\"\"\n",
    "    for alpha, (j, k) in enumerate(pairs):\n",
    "        p_jk = kernel(mass[j], mass[k], coeff=b_per_s) * dt / dv\n",
    "        p_s_jk = max(mult[j], mult[k]) * p_jk\n",
    "        n = len(mult)\n",
    "        p_alpha = p_s_jk * n * (n - 1) / (2 * len(pairs))\n",
    "        \n",
    "        # assert p_alpha < 1 and p_alpha > 0\n",
    "        # TODO: Gamma factor fixing assertion in GH repo from the labs\n",
    "        \n",
    "        \n",
    "        if u01[alpha] < p_alpha:\n",
    "            if mult[j] < mult[k]:\n",
    "                j, k = k, j\n",
    "                \n",
    "            if mult[j] != mult[k]:\n",
    "                mult[j] -= mult[k]\n",
    "                mass[k] += mass[j]\n",
    "                \n",
    "            else:\n",
    "                mult[k] = mult[j] - mult[j] // 2\n",
    "                mult[j] = mult[j] // 2\n",
    "                mass[k] += mass[j]\n",
    "                mass[j] = mass[k]"
   ]
  },
  {
   "cell_type": "code",
   "execution_count": 28,
   "metadata": {
    "scrolled": true
   },
   "outputs": [],
   "source": [
    "def simulate(*, params_phys, params_comp, particles, rng, sdm=sdm):\n",
    "    \"\"\" does simulation for all sampling variants (each variant using the same shuffled numbers) \"\"\"\n",
    "    n_pairs = params_comp.n_part // 2\n",
    "    for _ in range(params_comp.n_step):\n",
    "        non_overlapping_pairs = rng.permutation(params_comp.n_part)[: 2 * n_pairs].reshape(-1, 2)\n",
    "        u01 = rng.uniform(0, 1, n_pairs)\n",
    "        for part in particles.values():\n",
    "            sdm(\n",
    "                pairs=non_overlapping_pairs,\n",
    "                u01=u01,\n",
    "                b_per_s=params_phys.b_per_s,\n",
    "                dt=params_comp.dt_s,\n",
    "                dv=params_phys.dv_m3,\n",
    "                **part\n",
    "            )"
   ]
  },
  {
   "cell_type": "code",
   "execution_count": 35,
   "metadata": {},
   "outputs": [],
   "source": [
    "simulate(\n",
    "    particles=PARTICLES, \n",
    "    params_phys=PARAMS_PHYS, \n",
    "    params_comp=PARAMS_COMP, \n",
    "    rng=RNG,\n",
    "    sdm=sdm_optimized\n",
    ")"
   ]
  },
  {
   "cell_type": "code",
   "execution_count": 40,
   "metadata": {},
   "outputs": [
    {
     "name": "stdout",
     "output_type": "stream",
     "text": [
      "Raw: (2027481.661168917, 2027504.91451775, 23.253348832949996)\n",
      "Optimized: (2027504.914711333, 2027505.037753042, 0.12304170895367861)\n",
      " \n",
      "================================================================================\n",
      " Parallel Accelerator Optimizing:  Function sdm_optimized, \n",
      "/var/folders/fz/mfw06hh53blcf3hcdj6s8n3r0000gn/T/ipykernel_9696/2113441850.py \n",
      "(8)  \n",
      "================================================================================\n",
      "No source available\n",
      "--------------------------------- Fusing loops ---------------------------------\n",
      "Attempting fusion of parallel loops (combines loops with similar properties)...\n",
      "----------------------------- Before Optimisation ------------------------------\n",
      "--------------------------------------------------------------------------------\n",
      "------------------------------ After Optimisation ------------------------------\n",
      "Parallel structure is already optimal.\n",
      "--------------------------------------------------------------------------------\n",
      "--------------------------------------------------------------------------------\n",
      " \n",
      "---------------------------Loop invariant code motion---------------------------\n",
      "Allocation hoisting:\n",
      "No allocation hoisting found\n",
      "\n",
      "Instruction hoisting:\n",
      "No instruction hoisting found\n",
      "--------------------------------------------------------------------------------\n"
     ]
    }
   ],
   "source": [
    "# Benchmarks\n",
    "import time\n",
    "\n",
    "def measure_perf(sim_fn):\n",
    "    start_time = time.perf_counter()\n",
    "    sim_fn()\n",
    "    end_time = time.perf_counter()\n",
    "    duration = end_time - start_time\n",
    "    \n",
    "    return (start_time, end_time, duration)\n",
    "    \n",
    "    \n",
    "raw_sdm = measure_perf(lambda : simulate(\n",
    "    particles=PARTICLES.copy(), \n",
    "    params_phys=PARAMS_PHYS, \n",
    "    params_comp=PARAMS_COMP, \n",
    "    rng=RNG,\n",
    "    sdm=sdm\n",
    "))\n",
    "optimized_sdm = measure_perf(lambda : simulate(\n",
    "    particles=PARTICLES.copy(), \n",
    "    params_phys=PARAMS_PHYS, \n",
    "    params_comp=PARAMS_COMP, \n",
    "    rng=RNG,\n",
    "    sdm=sdm_optimized\n",
    "))\n",
    "print(f'Raw: {raw_sdm}')\n",
    "print(f'Optimized: {optimized_sdm}')\n",
    "\n",
    "sdm_optimized.parallel_diagnostics(level=4)"
   ]
  }
 ],
 "metadata": {
  "kernelspec": {
   "display_name": "Python 3",
   "language": "python",
   "name": "python3"
  },
  "language_info": {
   "codemirror_mode": {
    "name": "ipython",
    "version": 3
   },
   "file_extension": ".py",
   "mimetype": "text/x-python",
   "name": "python",
   "nbconvert_exporter": "python",
   "pygments_lexer": "ipython3",
   "version": "3.11.11"
  }
 },
 "nbformat": 4,
 "nbformat_minor": 4
}
