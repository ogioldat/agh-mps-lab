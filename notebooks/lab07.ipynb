{
  "cells": [
    {
      "cell_type": "markdown",
      "metadata": {
        "id": "rrzCEYmdh_DM"
      },
      "source": [
        "# Lab 7 —  SDM optimization\n",
        "\n",
        "##### Tomasz Ogiołda"
      ]
    },
    {
      "cell_type": "markdown",
      "metadata": {
        "id": "lg22zA9Ch_DN"
      },
      "source": [
        "## Overview\n",
        "\n",
        "This notebook utilizes numba package to improve performance of SCM coagulation solver. Numba, thank to JIT compilation and parallelization gave huge performance gain in comparison to standard non-parallel method."
      ]
    },
    {
      "cell_type": "code",
      "execution_count": 2,
      "metadata": {
        "id": "97wDkAARh_DN"
      },
      "outputs": [],
      "source": [
        "from types import SimpleNamespace\n",
        "import numpy as np\n",
        "import scipy\n",
        "import numba"
      ]
    },
    {
      "cell_type": "code",
      "execution_count": 3,
      "metadata": {
        "id": "wDXNoeTBh_DN"
      },
      "outputs": [],
      "source": [
        "PARAMS_PHYS = SimpleNamespace(\n",
        "    n0=2**23,\n",
        "    dv_m3 = 1e6,\n",
        "    x0_kg=1.192e-13,\n",
        "    b_per_s = 1500,\n",
        ")\n",
        "PARAMS_PHYS.dist = scipy.stats.expon(loc=0, scale=PARAMS_PHYS.x0_kg)\n",
        "PARAMS_PHYS.norm = PARAMS_PHYS.n0 * PARAMS_PHYS.dv_m3\n",
        "\n",
        "PARAMS_COMP = SimpleNamespace(\n",
        "    n_part = 2**11,\n",
        "    t_max_s = 3600,\n",
        "    n_step = 1800,\n",
        ")\n",
        "PARAMS_COMP.dt_s = PARAMS_COMP.t_max_s / PARAMS_COMP.n_step\n",
        "\n",
        "PARAMS_BINS = SimpleNamespace(\n",
        "    min_x = -12,\n",
        "    max_x = -5,\n",
        "    count = 70\n",
        ")\n",
        "\n",
        "RNG = np.random.default_rng(seed=44)"
      ]
    },
    {
      "cell_type": "code",
      "execution_count": 4,
      "metadata": {
        "id": "iWNjVGKAh_DO"
      },
      "outputs": [],
      "source": [
        "def sample(*, params_comp, params_phys, rng):\n",
        "    \"\"\" randomly samples a particle population using constant-multiplicity,\n",
        "    uniform-mass and uniform-log-mass schemes and returns a dictionary\n",
        "    of three simulation state, each composed of 'mass' and 'mult' arrays \"\"\"\n",
        "    u01 = rng.uniform(0, 1, size=params_comp.n_part)\n",
        "    uniform_sampling_range = [params_phys.dist.ppf(q) for q in (.001, .999)]\n",
        "    x_uniform_linx = (\n",
        "        uniform_sampling_range[0]\n",
        "        + u01 * (uniform_sampling_range[1] - uniform_sampling_range[0])\n",
        "    )\n",
        "    x_uniform_logx = np.exp(\n",
        "        np.log(uniform_sampling_range[0])\n",
        "        + u01 * (np.log(uniform_sampling_range[1]) - np.log(uniform_sampling_range[0]))\n",
        "    )\n",
        "    return {\n",
        "        k: {\n",
        "            'mass': v['x'],\n",
        "            'mult': np.round(v['y'] * params_phys.norm).astype(int),\n",
        "        }\n",
        "        for k,v in\n",
        "        {\n",
        "            'sampling: uniform random in x': {\n",
        "                'x': x_uniform_linx,\n",
        "                'y': params_phys.dist.pdf(x_uniform_linx) \\\n",
        "                  * (uniform_sampling_range[1] - uniform_sampling_range[0]) \\\n",
        "                  / params_comp.n_part,\n",
        "            },\n",
        "            'sampling: uniform random in ln(x)': {\n",
        "                'x': x_uniform_logx,\n",
        "                'y': params_phys.dist.pdf(x_uniform_logx) \\\n",
        "                  * (np.log(uniform_sampling_range[1]) - np.log(uniform_sampling_range[0])) \\\n",
        "                  / (params_comp.n_part / x_uniform_logx),\n",
        "            },\n",
        "            'sampling: constant multiplicity': {\n",
        "                'x': params_phys.dist.ppf(u01),\n",
        "                'y': np.full(shape=params_comp.n_part, fill_value=1 / params_comp.n_part),\n",
        "            }\n",
        "        }.items()\n",
        "    }\n",
        "\n",
        "PARTICLES = sample(params_phys=PARAMS_PHYS, params_comp=PARAMS_COMP, rng=RNG)"
      ]
    },
    {
      "cell_type": "code",
      "execution_count": 5,
      "metadata": {
        "id": "jpDFwyhDh_DO"
      },
      "outputs": [],
      "source": [
        "def x_of_mass(mass):\n",
        "    \"\"\" defines the plot x coordinate as a funciton of particle mass \"\"\"\n",
        "    return np.log(mass) / 3\n",
        "\n",
        "def mass_of_x(coord):\n",
        "    \"\"\" computes mass back from the plot x coordinate \"\"\"\n",
        "    return np.exp(3 * coord)\n",
        "\n",
        "def kernel(mass_1, mass_2, coeff):\n",
        "    \"\"\" additive coagulation kernel \"\"\"\n",
        "    return coeff * (mass_1 + mass_2)\n",
        "\n",
        "def analytic_solution(mass_kg, time_s, params_phys):\n",
        "    \"\"\" Golovin's analytic solution to Smoluchowski coagulation equation\n",
        "    for additive kernel and exponential initial condition \"\"\"\n",
        "    tau = 1 - np.exp(-params_phys.n0 * params_phys.b_per_s * params_phys.x0_kg * time_s)\n",
        "    sqrt_tau = np.sqrt(tau)\n",
        "    return (\n",
        "        (1 - tau) / (mass_kg * sqrt_tau)\n",
        "        * scipy.special.ive(1, 2 * mass_kg / params_phys.x0_kg * sqrt_tau)  # pylint: disable=no-member\n",
        "        * np.exp(-(1 + tau - 2 * sqrt_tau) * mass_kg / params_phys.x0_kg)\n",
        "    )"
      ]
    },
    {
      "cell_type": "code",
      "execution_count": 6,
      "metadata": {
        "id": "7we5Lwhkh_DO"
      },
      "outputs": [],
      "source": [
        "@numba.jit\n",
        "def kernel(mass_1, mass_2, coeff):\n",
        "    \"\"\" additive coagulation kernel \"\"\"\n",
        "    return coeff * (mass_1 + mass_2)\n",
        "\n",
        "\n",
        "@numba.jit(parallel=True)\n",
        "def sdm_optimized(*, pairs, u01, mult, mass, coeff, dt, dv):\n",
        "    \"\"\" performs Monte-Carlo coagulation using the SDM algorithm \"\"\"\n",
        "    for alpha in numba.prange(pairs.shape[0]):\n",
        "        (j, k) = pairs[alpha]\n",
        "\n",
        "        p_jk = kernel(mass[j], mass[k], coeff) * dt / dv\n",
        "        p_s_jk = max(mult[j], mult[k]) * p_jk\n",
        "        n = len(mult)\n",
        "        p_alpha = p_s_jk * n * (n - 1) / (2 * len(pairs))\n",
        "\n",
        "        if u01[alpha] < p_alpha:\n",
        "            if mult[j] < mult[k]:\n",
        "                j, k = k, j\n",
        "\n",
        "            if mult[j] != mult[k]:\n",
        "                mult[j] -= mult[k]\n",
        "                mass[k] += mass[j]\n",
        "\n",
        "            else:\n",
        "                mult[k] = mult[j] - mult[j] // 2\n",
        "                mult[j] = mult[j] // 2\n",
        "                mass[k] += mass[j]\n",
        "                mass[j] = mass[k]\n",
        "\n",
        "\n",
        "def sdm(pairs, u01, mult, mass, coeff, dt, dv):\n",
        "    \"\"\" performs Monte-Carlo coagulation using the SDM algorithm \"\"\"\n",
        "    p_scale = len(mult) * (len(mult) - 1) / 2 / len(pairs)\n",
        "    for alpha, (j, k) in enumerate(pairs):\n",
        "        if mult[j] < mult[k]:\n",
        "            j, k = k, j\n",
        "        p_alpha = mult[j] * p_scale * kernel(mass[j], mass[k], coeff) * dt / dv\n",
        "        gamma = p_alpha // 1 + (p_alpha - p_alpha // 1) > u01[alpha]\n",
        "        if gamma != 0:\n",
        "            gamma = min(gamma, (mult[j] / mult[k]) // 1)\n",
        "            if mult[j] - gamma * mult[k] > 0:\n",
        "                mult[j] -= gamma * mult[k]\n",
        "                mass[k] += gamma * mass[j]\n",
        "            else:\n",
        "                mult[j] = mult[k] // 2\n",
        "                mult[k] -= mult[j]\n",
        "                mass[k] += gamma * mass[j]\n",
        "                mass[j] = mass[k]"
      ]
    },
    {
      "cell_type": "code",
      "execution_count": 7,
      "metadata": {
        "scrolled": true,
        "id": "0VR9OaJCh_DO"
      },
      "outputs": [],
      "source": [
        "def simulate(*, params_phys, params_comp, particles, rng, sdm=sdm):\n",
        "    \"\"\" does simulation for all sampling variants (each variant using the same shuffled numbers) \"\"\"\n",
        "    n_pairs = params_comp.n_part // 2\n",
        "    for _ in range(params_comp.n_step):\n",
        "        non_overlapping_pairs = rng.permutation(params_comp.n_part)[: 2 * n_pairs].reshape(-1, 2)\n",
        "        u01 = rng.uniform(0, 1, n_pairs)\n",
        "        for part in particles.values():\n",
        "            sdm(\n",
        "                pairs=non_overlapping_pairs,\n",
        "                u01=u01,\n",
        "                coeff=params_phys.b_per_s,\n",
        "                dt=params_comp.dt_s,\n",
        "                dv=params_phys.dv_m3,\n",
        "                **part\n",
        "            )"
      ]
    },
    {
      "cell_type": "code",
      "execution_count": 8,
      "metadata": {
        "id": "FBSgJtyMh_DO"
      },
      "outputs": [],
      "source": [
        "import time, copy\n",
        "\n",
        "def measure_perf(sdm):\n",
        "    BENCH_RNG = np.random.default_rng(seed=44)\n",
        "\n",
        "    start_time = time.perf_counter()\n",
        "\n",
        "    part_cpy = copy.deepcopy(PARTICLES)\n",
        "\n",
        "    simulate(\n",
        "        particles=part_cpy,\n",
        "        params_phys=PARAMS_PHYS,\n",
        "        params_comp=PARAMS_COMP,\n",
        "        rng=BENCH_RNG,\n",
        "        sdm=sdm\n",
        "    )\n",
        "\n",
        "    end_time = time.perf_counter()\n",
        "    duration = end_time - start_time\n",
        "\n",
        "    return {\n",
        "        'duration': duration,\n",
        "        'particles': part_cpy\n",
        "    }\n",
        "\n",
        "\n",
        "raw_sdm = measure_perf(sdm)\n",
        "optimized_sdm = measure_perf(sdm_optimized)"
      ]
    },
    {
      "cell_type": "markdown",
      "metadata": {
        "id": "3KOFjoTfh_DO"
      },
      "source": [
        "## Running time comparison"
      ]
    },
    {
      "cell_type": "markdown",
      "metadata": {
        "id": "ibDAACAbh_DP"
      },
      "source": [
        "### Not optimized version (sec)"
      ]
    },
    {
      "cell_type": "code",
      "execution_count": 9,
      "metadata": {
        "colab": {
          "base_uri": "https://localhost:8080/"
        },
        "id": "0e71iqMkh_DP",
        "outputId": "9f2ad664-cc90-4773-9997-fb0960466cd3"
      },
      "outputs": [
        {
          "output_type": "execute_result",
          "data": {
            "text/plain": [
              "57.361841337000214"
            ]
          },
          "metadata": {},
          "execution_count": 9
        }
      ],
      "source": [
        "raw_sdm['duration']"
      ]
    },
    {
      "cell_type": "markdown",
      "metadata": {
        "id": "cWh0_i3Wh_DP"
      },
      "source": [
        "### Optimized version (sec)"
      ]
    },
    {
      "cell_type": "code",
      "execution_count": 10,
      "metadata": {
        "colab": {
          "base_uri": "https://localhost:8080/"
        },
        "id": "xsW06jSjh_DP",
        "outputId": "39ccfd15-e007-42d2-dfc8-d19805f52b58"
      },
      "outputs": [
        {
          "output_type": "execute_result",
          "data": {
            "text/plain": [
              "0.9578236029999516"
            ]
          },
          "metadata": {},
          "execution_count": 10
        }
      ],
      "source": [
        "optimized_sdm['duration']"
      ]
    },
    {
      "cell_type": "markdown",
      "metadata": {
        "id": "R9MyJ5A8h_DP"
      },
      "source": [
        "## Result correctness verification"
      ]
    },
    {
      "cell_type": "code",
      "execution_count": 11,
      "metadata": {
        "id": "IDpoN5AZh_DP"
      },
      "outputs": [],
      "source": [
        "import pickle\n",
        "\n",
        "assert pickle.dumps(raw_sdm['particles']) == pickle.dumps(optimized_sdm['particles'])"
      ]
    }
  ],
  "metadata": {
    "kernelspec": {
      "display_name": "Python 3",
      "language": "python",
      "name": "python3"
    },
    "language_info": {
      "codemirror_mode": {
        "name": "ipython",
        "version": 3
      },
      "file_extension": ".py",
      "mimetype": "text/x-python",
      "name": "python",
      "nbconvert_exporter": "python",
      "pygments_lexer": "ipython3",
      "version": "3.11.11"
    },
    "colab": {
      "provenance": []
    }
  },
  "nbformat": 4,
  "nbformat_minor": 0
}