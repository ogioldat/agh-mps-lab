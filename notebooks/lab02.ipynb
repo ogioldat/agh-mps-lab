{
 "cells": [
  {
   "cell_type": "markdown",
   "metadata": {},
   "source": [
    "# Lab 2 -- advection-diffusion equation\n",
    "\n",
    "## Tomasz Ogiołda\n",
    "\n",
    "## Problem statement\n",
    "\n",
    "How to describe the concentration $c(x,t)$ of a substance over space $x$ and time $t$?\n",
    "\n",
    "## Mathematical model of advection-diffusion\n",
    "\n",
    "The concentration ($kg/m^3$) at position $x$ and time  $t$:\n",
    "\n",
    "$c(x,t) = \\frac{M}{A} \\cdot \\frac{1}{\\sqrt{4\\pi D}} \\cdot \\exp{[-\\frac{(vt - x)^2}{4Dt}]}$\n",
    "\n",
    "Where:\n",
    "\n",
    "- $\\frac{M}{A}$\n",
    "  - $M$, is a total mass of the substance ($kg$), representing the amount initially present,\n",
    "  - $A$, is the cross-sectional area ($m^2$), normalizing the mass over the area of diffusion/advection. Together, this term scales the concentration.\n",
    "- $\\frac{1}{\\sqrt{4\\pi D}}$\n",
    "  - $D$, is the diffusion coefficient ($m^2/s$), measuring how fast the substance spreads due to diffusion.\n",
    "  - $\\sqrt{4\\pi D}$ term arises from the Gaussian solution to the diffusion equation, adjusting the amplitude based on $D$. The square root reflects the spreading over time.\n",
    "- $\\exp{[-\\frac{(vt - x)^2}{4Dt}]}$ \n",
    "  - $v$ is the advection velocity ($m/s$), the speed at which the substance is carried along (by the wind). \n",
    "  - $vt−x$ is the distance between the advected position, $(vt)$ and the observation point ($x$), showing the peak moves with velocity $v$.\n",
    "  - The $4Dt$ denominator involving diffusion coefficient and time, controlling the width of the spread (larger $D$ or $t$ widens the distribution). \n",
    "  - The exponential describes a bell-shaped (Gaussian) profile centered at $x=vt$, modified by diffusion.\n",
    "\n",
    "\n",
    "## Bounding conditions\n",
    "\n",
    "### Parameters \n",
    "\n",
    "- $M=0.5 kg$, total mass of the substance.\n",
    "- $A=0.2 m^2$, cross-section area.\n",
    "- $D=0.1 m^2/s$, diffusion coefficient.\n",
    "- $v=1.3 m/s$, advection velocity, in this case a speed of blowing wind.\n",
    "\n",
    "### Time range\n",
    "\n",
    "- $4s$ of the simulation.\n"
   ]
  },
  {
   "cell_type": "code",
   "execution_count": 13,
   "metadata": {},
   "outputs": [],
   "source": [
    "import pint\n",
    "import matplotlib.pyplot as plt\n",
    "import numpy as np"
   ]
  },
  {
   "cell_type": "code",
   "execution_count": null,
   "metadata": {},
   "outputs": [],
   "source": [
    "si = pint.UnitRegistry()\n",
    "si.setup_matplotlib()\n",
    "plt.rcParams[\"savefig.format\"] = \"svg\""
   ]
  },
  {
   "cell_type": "code",
   "execution_count": 12,
   "metadata": {},
   "outputs": [
    {
     "data": {
      "text/plain": [
       "[<matplotlib.lines.Line2D at 0x11abf11f0>]"
      ]
     },
     "execution_count": 12,
     "metadata": {},
     "output_type": "execute_result"
    }
   ],
   "source": [
    "M = 0.5 * si.kilogram\n",
    "A = 0.2 * si.meter**2\n",
    "D = 0.1 * si.meter**2 / si.sec\n",
    "v = 1.3 * si.meter / si.sec\n",
    "\n",
    "def c(x, t):\n",
    "    if not isinstance(x, si.Quantity):\n",
    "        x = x * si.meter\n",
    "        \n",
    "    if not isinstance(t, si.Quantity):\n",
    "        t = t * si.sec\n",
    "    \n",
    "    prefactor = (M / (A * np.sqrt(4 * np.pi * D * t)))\n",
    "    exponent = -((v * t - x)**2 / (4 * D * t)).to_base_units().magnitude\n",
    "    \n",
    "    return prefactor * np.exp(exponent)\n",
    "\n",
    "x_time = np.linspace(0.0001, 4, 400) * si.sec\n",
    "y_conc = c(1, x_time)\n",
    "\n",
    "plt.plot(x_time, y_conc)\n"
   ]
  }
 ],
 "metadata": {
  "kernelspec": {
   "display_name": "Python 3",
   "language": "python",
   "name": "python3"
  },
  "language_info": {
   "codemirror_mode": {
    "name": "ipython",
    "version": 3
   },
   "file_extension": ".py",
   "mimetype": "text/x-python",
   "name": "python",
   "nbconvert_exporter": "python",
   "pygments_lexer": "ipython3",
   "version": "3.12.9"
  }
 },
 "nbformat": 4,
 "nbformat_minor": 2
}
