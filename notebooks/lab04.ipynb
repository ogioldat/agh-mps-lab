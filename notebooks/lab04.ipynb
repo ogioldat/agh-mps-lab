{
 "cells": [
  {
   "cell_type": "markdown",
   "metadata": {},
   "source": [
    "$\\partial_t\\psi = \\mu \\partial^2_x \\psi$"
   ]
  }
 ],
 "metadata": {
  "language_info": {
   "name": "python"
  }
 },
 "nbformat": 4,
 "nbformat_minor": 2
}
