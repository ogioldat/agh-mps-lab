{
 "cells": [
  {
   "cell_type": "markdown",
   "metadata": {},
   "source": [
    "# Lab 4 — Advection-Diffusion integration\n",
    "\n",
    "### Tomasz Ogiołda\n",
    "\n",
    "## Goal\n",
    "\n",
    "This Jupyter notebook looks at the advection-diffusion equation, which combines two basic ideas: advection, where stuff moves with a flow, and diffusion.\n",
    "\n",
    "## Setup\n",
    "\n",
    "In this simulation, we have an initial pulse of concentration (with mass M = 0.5) introduced at a specific location. The advection coefficient u = 0.3 indicates a rightward flow, while the diffusion coefficient D = 0.15 causes the pulse to spread over time.\n",
    "\n",
    "### Analytical solution\n",
    "\n",
    "The result of integrated upwind scheme was compared to the following analytical solution:\n",
    "\n",
    "$$c(x,t) = \\frac{M}{A} \\cdot \\frac{1}{\\sqrt{4\\pi D}} \\cdot \\exp{[-\\frac{(vt - x)^2}{4Dt}]}$$"
   ]
  },
  {
   "cell_type": "code",
   "execution_count": 125,
   "metadata": {},
   "outputs": [],
   "source": [
    "import numpy as np\n",
    "from matplotlib import pyplot as plt"
   ]
  },
  {
   "cell_type": "code",
   "execution_count": 126,
   "metadata": {},
   "outputs": [],
   "source": [
    "class shift:\n",
    "    def __init__(self, add, sub):\n",
    "      self.add = add\n",
    "      self.sub = sub\n",
    "\n",
    "    def __radd__(self, other):\n",
    "      return slice(other.start + self.add, other.stop + self.add)\n",
    "\n",
    "    def __rsub__(self, other):\n",
    "      return slice(other.start - self.sub, other.stop - self.sub)"
   ]
  },
  {
   "cell_type": "code",
   "execution_count": 127,
   "metadata": {},
   "outputs": [],
   "source": [
    "t_max = 10\n",
    "nt = 500\n",
    "nx = 64\n",
    "dt = t_max / nt\n",
    "\n",
    "M = 0.5\n",
    "A = 0.5\n",
    "D = 0.15\n",
    "u = 0.3\n",
    "L = 10\n",
    "mu = 0.5"
   ]
  },
  {
   "cell_type": "code",
   "execution_count": 128,
   "metadata": {},
   "outputs": [],
   "source": [
    "\n",
    "def adv_diff_analytical(x, t):\n",
    "    exponent = -((u * t - x)**2) / (4 * D * t)\n",
    "    concentration = M / A * (1 / (2 * np.sqrt(np.pi * D * t))) * np.exp(exponent)\n",
    "    \n",
    "    return concentration\n",
    "\n",
    "def F(psi_l, psi_r, C):\n",
    "  return .5 * (C + abs(C)) * psi_l + .5 * (C - abs(C)) * psi_r"
   ]
  },
  {
   "cell_type": "code",
   "execution_count": 129,
   "metadata": {},
   "outputs": [
    {
     "data": {
      "text/plain": [
       "<matplotlib.legend.Legend at 0x11b767b90>"
      ]
     },
     "execution_count": 129,
     "metadata": {},
     "output_type": "execute_result"
    },
    {
     "data": {
      "image/png": "[encoded data removed]",
      "text/plain": [
       "<Figure size 640x480 with 1 Axes>"
      ]
     },
     "metadata": {},
     "output_type": "display_data"
    }
   ],
   "source": [
    "x, dx = np.linspace(-10, L, nx, endpoint=True, retstep=True)\n",
    "\n",
    "one = shift(add=1, sub=1)\n",
    "hlf = shift(add=0, sub=1)\n",
    "\n",
    "i = slice(1, nx-2)\n",
    "im = slice(1, nx-1)\n",
    "\n",
    "psi = adv_diff_analytical(x=x, t=1)\n",
    "C = np.zeros(len(psi) - 1)\n",
    "\n",
    "solutions = [psi.copy()]\n",
    "\n",
    "for _ in range(nt):\n",
    "    adv_C = u * dt / dx\n",
    "    adv = F(psi[i], psi[i + one], adv_C) - F(psi[i - one], psi[i], adv_C)\n",
    "    C[im - hlf] = -mu * dt / dx * (psi[im] - psi[im - one]) / dx * (2 / (psi[im] + psi[im - one]))\n",
    "    diff = F(psi[i], psi[i + one], C[i + hlf]) - F(psi[i - one], psi[i], C[i - hlf])\n",
    "    \n",
    "    psi[i] =  psi[i] - (adv + diff)\n",
    "    solutions += [psi.copy()]\n",
    "    \n",
    "time_step = 50\n",
    "plt.step(x, adv_diff_analytical(x=x, t=time_step*dt), label=\"Analytical\")\n",
    "plt.step(x, solutions[time_step], label=\"Upwind scheme\")\n",
    "plt.legend()"
   ]
  },
  {
   "cell_type": "markdown",
   "metadata": {},
   "source": [
    "### Conclusions\n",
    "\n",
    "The graph compares an analytical solution (blue line) and an upwind scheme (orange line) for an advection-diffusion problem. The analytical solution is a smooth peak, showing the exact way something moves and spreads. The upwind scheme, a numerical method, looks jagged and less accurate, with a slightly lower peak and small wiggles. It captures the general shape but isn’t as precise as the analytical solution."
   ]
  }
 ],
 "metadata": {
  "kernelspec": {
   "display_name": "Python 3",
   "language": "python",
   "name": "python3"
  },
  "language_info": {
   "codemirror_mode": {
    "name": "ipython",
    "version": 3
   },
   "file_extension": ".py",
   "mimetype": "text/x-python",
   "name": "python",
   "nbconvert_exporter": "python",
   "pygments_lexer": "ipython3",
   "version": "3.11.11"
  }
 },
 "nbformat": 4,
 "nbformat_minor": 2
}
